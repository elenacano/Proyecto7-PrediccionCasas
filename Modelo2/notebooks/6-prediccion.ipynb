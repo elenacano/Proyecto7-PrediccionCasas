{
 "cells": [
  {
   "cell_type": "markdown",
   "metadata": {},
   "source": [
    "# **Predicción** "
   ]
  },
  {
   "cell_type": "markdown",
   "metadata": {},
   "source": [
    "Ahora con nuestro modelo ya creado podemos darle datos de una posible casa y probar que predicciones nos da."
   ]
  },
  {
   "cell_type": "code",
   "execution_count": 76,
   "metadata": {},
   "outputs": [],
   "source": [
    "import pandas as pd\n",
    "import pickle\n",
    "import numpy as np\n",
    "from sklearn.preprocessing import OneHotEncoder\n",
    "import sys\n",
    "\n",
    "sys.path.append('../')\n",
    "from src import funciones_prediccion as fp\n",
    "\n",
    "pd.set_option(\"display.max_columns\", None)\n",
    "\n"
   ]
  },
  {
   "cell_type": "markdown",
   "metadata": {},
   "source": [
    "Nos inventamos unos datos para una casa con todos los parámetros necesarios para el modelo."
   ]
  },
  {
   "cell_type": "code",
   "execution_count": 77,
   "metadata": {},
   "outputs": [
    {
     "data": {
      "text/html": [
       "<div>\n",
       "<style scoped>\n",
       "    .dataframe tbody tr th:only-of-type {\n",
       "        vertical-align: middle;\n",
       "    }\n",
       "\n",
       "    .dataframe tbody tr th {\n",
       "        vertical-align: top;\n",
       "    }\n",
       "\n",
       "    .dataframe thead th {\n",
       "        text-align: right;\n",
       "    }\n",
       "</style>\n",
       "<table border=\"1\" class=\"dataframe\">\n",
       "  <thead>\n",
       "    <tr style=\"text-align: right;\">\n",
       "      <th></th>\n",
       "      <th>propertyType</th>\n",
       "      <th>size</th>\n",
       "      <th>exterior</th>\n",
       "      <th>rooms</th>\n",
       "      <th>bathrooms</th>\n",
       "      <th>municipality</th>\n",
       "      <th>distance</th>\n",
       "      <th>floor</th>\n",
       "      <th>hasLift</th>\n",
       "    </tr>\n",
       "  </thead>\n",
       "  <tbody>\n",
       "    <tr>\n",
       "      <th>0</th>\n",
       "      <td>flat</td>\n",
       "      <td>30</td>\n",
       "      <td>True</td>\n",
       "      <td>2</td>\n",
       "      <td>1</td>\n",
       "      <td>Madrid</td>\n",
       "      <td>3000</td>\n",
       "      <td>2</td>\n",
       "      <td>True</td>\n",
       "    </tr>\n",
       "  </tbody>\n",
       "</table>\n",
       "</div>"
      ],
      "text/plain": [
       "  propertyType  size exterior rooms bathrooms municipality  distance floor  \\\n",
       "0         flat    30     True     2         1       Madrid      3000     2   \n",
       "\n",
       "  hasLift  \n",
       "0    True  "
      ]
     },
     "execution_count": 77,
     "metadata": {},
     "output_type": "execute_result"
    }
   ],
   "source": [
    "# Datos de una nueva casa para predicción\n",
    "new_house = pd.DataFrame({\n",
    "    'propertyType': [\"flat\"],  # Nueva categoría no vista\n",
    "    'size': [30],\n",
    "    'exterior': [True],\n",
    "    'rooms': [2],\n",
    "    'bathrooms' : [1],\n",
    "    'municipality' : ['Madrid'],\n",
    "    'distance' : [3000],\n",
    "    'floor' : [2],\n",
    "    'hasLift' : [True]\n",
    "})\n",
    "\n",
    "df_pred = pd.DataFrame(new_house)\n",
    "df_pred[['rooms', 'bathrooms', 'floor', 'exterior', 'hasLift']] = df_pred[['rooms', 'bathrooms', 'floor', 'exterior', 'hasLift']].astype(\"str\")\n",
    "df_pred"
   ]
  },
  {
   "cell_type": "code",
   "execution_count": 78,
   "metadata": {},
   "outputs": [],
   "source": [
    "# cargamos los transformadores y el modelo entrenado\n",
    "with open('../datos/modelos/modelo_prediccion_final.pkl', 'rb') as f:\n",
    "    model = pickle.load(f)\n",
    "\n",
    "with open('../datos/preprocesamiento/standar_scaler.pkl', 'rb') as f:\n",
    "    standar_scaler = pickle.load(f)\n",
    "\n",
    "with open('../datos/preprocesamiento/target_encoder.pkl', 'rb') as f:\n",
    "    target_encoder = pickle.load(f)\n",
    "\n",
    "with open('../datos/preprocesamiento/one_hot_encoder.pkl', 'rb') as f:\n",
    "    one_hot_encoder = pickle.load(f)"
   ]
  },
  {
   "cell_type": "markdown",
   "metadata": {},
   "source": [
    "### **1. Encoding**\n",
    "\n",
    "El primer paso es hacer el encoding en el mismo orden y con las mismas columnas que cuando entrenamos al modelo."
   ]
  },
  {
   "cell_type": "code",
   "execution_count": 79,
   "metadata": {},
   "outputs": [],
   "source": [
    "diccionario_encoding={\"onehot\":[\"rooms\", \"bathrooms\", \"propertyType\", \"exterior\"], \"target\":['municipality', 'floor', 'hasLift']}\n",
    "\n",
    "col_one_hot = diccionario_encoding[\"onehot\"]\n",
    "col_target = diccionario_encoding[\"target\"]\n"
   ]
  },
  {
   "cell_type": "markdown",
   "metadata": {},
   "source": [
    "Primero hacemos el one-hot encoding:"
   ]
  },
  {
   "cell_type": "code",
   "execution_count": 80,
   "metadata": {},
   "outputs": [
    {
     "data": {
      "text/html": [
       "<div>\n",
       "<style scoped>\n",
       "    .dataframe tbody tr th:only-of-type {\n",
       "        vertical-align: middle;\n",
       "    }\n",
       "\n",
       "    .dataframe tbody tr th {\n",
       "        vertical-align: top;\n",
       "    }\n",
       "\n",
       "    .dataframe thead th {\n",
       "        text-align: right;\n",
       "    }\n",
       "</style>\n",
       "<table border=\"1\" class=\"dataframe\">\n",
       "  <thead>\n",
       "    <tr style=\"text-align: right;\">\n",
       "      <th></th>\n",
       "      <th>size</th>\n",
       "      <th>municipality</th>\n",
       "      <th>distance</th>\n",
       "      <th>floor</th>\n",
       "      <th>hasLift</th>\n",
       "      <th>rooms_0</th>\n",
       "      <th>rooms_1</th>\n",
       "      <th>rooms_2</th>\n",
       "      <th>rooms_3</th>\n",
       "      <th>rooms_4</th>\n",
       "      <th>bathrooms_1</th>\n",
       "      <th>bathrooms_2</th>\n",
       "      <th>bathrooms_3</th>\n",
       "      <th>propertyType_chalet</th>\n",
       "      <th>propertyType_countryHouse</th>\n",
       "      <th>propertyType_duplex</th>\n",
       "      <th>propertyType_flat</th>\n",
       "      <th>propertyType_penthouse</th>\n",
       "      <th>propertyType_studio</th>\n",
       "      <th>exterior_True</th>\n",
       "    </tr>\n",
       "  </thead>\n",
       "  <tbody>\n",
       "    <tr>\n",
       "      <th>0</th>\n",
       "      <td>30</td>\n",
       "      <td>Madrid</td>\n",
       "      <td>3000</td>\n",
       "      <td>2</td>\n",
       "      <td>True</td>\n",
       "      <td>0.0</td>\n",
       "      <td>0.0</td>\n",
       "      <td>1.0</td>\n",
       "      <td>0.0</td>\n",
       "      <td>0.0</td>\n",
       "      <td>1.0</td>\n",
       "      <td>0.0</td>\n",
       "      <td>0.0</td>\n",
       "      <td>0.0</td>\n",
       "      <td>0.0</td>\n",
       "      <td>0.0</td>\n",
       "      <td>1.0</td>\n",
       "      <td>0.0</td>\n",
       "      <td>0.0</td>\n",
       "      <td>1.0</td>\n",
       "    </tr>\n",
       "  </tbody>\n",
       "</table>\n",
       "</div>"
      ],
      "text/plain": [
       "   size municipality  distance floor hasLift  rooms_0  rooms_1  rooms_2  \\\n",
       "0    30       Madrid      3000     2    True      0.0      0.0      1.0   \n",
       "\n",
       "   rooms_3  rooms_4  bathrooms_1  bathrooms_2  bathrooms_3  \\\n",
       "0      0.0      0.0          1.0          0.0          0.0   \n",
       "\n",
       "   propertyType_chalet  propertyType_countryHouse  propertyType_duplex  \\\n",
       "0                  0.0                        0.0                  0.0   \n",
       "\n",
       "   propertyType_flat  propertyType_penthouse  propertyType_studio  \\\n",
       "0                1.0                     0.0                  0.0   \n",
       "\n",
       "   exterior_True  \n",
       "0            1.0  "
      ]
     },
     "execution_count": 80,
     "metadata": {},
     "output_type": "execute_result"
    }
   ],
   "source": [
    "encoded_matrix = one_hot_encoder.transform(df_pred[col_one_hot])\n",
    "\n",
    "df_ohe = pd.DataFrame(\n",
    "    encoded_matrix.toarray(),  # Convertir matriz dispersa a densa (si es dispersa)\n",
    "    columns=one_hot_encoder.get_feature_names_out(col_one_hot)  # Obtener nombres de las columnas\n",
    ")\n",
    "\n",
    "df_encoded = pd.concat([df_pred.reset_index(drop=True), df_ohe.reset_index(drop=True)], axis=1)\n",
    "df_encoded.drop(columns=[\"rooms\", \"bathrooms\", \"propertyType\", \"exterior\", \"exterior_False\"], inplace=True)\n",
    "\n",
    "df_encoded"
   ]
  },
  {
   "cell_type": "markdown",
   "metadata": {},
   "source": [
    "Después hacemos el target:"
   ]
  },
  {
   "cell_type": "code",
   "execution_count": 81,
   "metadata": {},
   "outputs": [
    {
     "data": {
      "text/html": [
       "<div>\n",
       "<style scoped>\n",
       "    .dataframe tbody tr th:only-of-type {\n",
       "        vertical-align: middle;\n",
       "    }\n",
       "\n",
       "    .dataframe tbody tr th {\n",
       "        vertical-align: top;\n",
       "    }\n",
       "\n",
       "    .dataframe thead th {\n",
       "        text-align: right;\n",
       "    }\n",
       "</style>\n",
       "<table border=\"1\" class=\"dataframe\">\n",
       "  <thead>\n",
       "    <tr style=\"text-align: right;\">\n",
       "      <th></th>\n",
       "      <th>size</th>\n",
       "      <th>municipality</th>\n",
       "      <th>distance</th>\n",
       "      <th>floor</th>\n",
       "      <th>hasLift</th>\n",
       "      <th>rooms_0</th>\n",
       "      <th>rooms_1</th>\n",
       "      <th>rooms_2</th>\n",
       "      <th>rooms_3</th>\n",
       "      <th>rooms_4</th>\n",
       "      <th>bathrooms_1</th>\n",
       "      <th>bathrooms_2</th>\n",
       "      <th>bathrooms_3</th>\n",
       "      <th>propertyType_chalet</th>\n",
       "      <th>propertyType_countryHouse</th>\n",
       "      <th>propertyType_duplex</th>\n",
       "      <th>propertyType_flat</th>\n",
       "      <th>propertyType_penthouse</th>\n",
       "      <th>propertyType_studio</th>\n",
       "      <th>exterior_True</th>\n",
       "    </tr>\n",
       "  </thead>\n",
       "  <tbody>\n",
       "    <tr>\n",
       "      <th>0</th>\n",
       "      <td>30</td>\n",
       "      <td>705.633132</td>\n",
       "      <td>3000</td>\n",
       "      <td>696.091764</td>\n",
       "      <td>702.271674</td>\n",
       "      <td>0.0</td>\n",
       "      <td>0.0</td>\n",
       "      <td>1.0</td>\n",
       "      <td>0.0</td>\n",
       "      <td>0.0</td>\n",
       "      <td>1.0</td>\n",
       "      <td>0.0</td>\n",
       "      <td>0.0</td>\n",
       "      <td>0.0</td>\n",
       "      <td>0.0</td>\n",
       "      <td>0.0</td>\n",
       "      <td>1.0</td>\n",
       "      <td>0.0</td>\n",
       "      <td>0.0</td>\n",
       "      <td>1.0</td>\n",
       "    </tr>\n",
       "  </tbody>\n",
       "</table>\n",
       "</div>"
      ],
      "text/plain": [
       "   size  municipality  distance       floor     hasLift  rooms_0  rooms_1  \\\n",
       "0    30    705.633132      3000  696.091764  702.271674      0.0      0.0   \n",
       "\n",
       "   rooms_2  rooms_3  rooms_4  bathrooms_1  bathrooms_2  bathrooms_3  \\\n",
       "0      1.0      0.0      0.0          1.0          0.0          0.0   \n",
       "\n",
       "   propertyType_chalet  propertyType_countryHouse  propertyType_duplex  \\\n",
       "0                  0.0                        0.0                  0.0   \n",
       "\n",
       "   propertyType_flat  propertyType_penthouse  propertyType_studio  \\\n",
       "0                1.0                     0.0                  0.0   \n",
       "\n",
       "   exterior_True  \n",
       "0            1.0  "
      ]
     },
     "execution_count": 81,
     "metadata": {},
     "output_type": "execute_result"
    }
   ],
   "source": [
    "df_encoded = target_encoder.transform(df_encoded)\n",
    "df_encoded"
   ]
  },
  {
   "cell_type": "markdown",
   "metadata": {},
   "source": [
    "### **2. Estandarizacion**"
   ]
  },
  {
   "cell_type": "code",
   "execution_count": 82,
   "metadata": {},
   "outputs": [
    {
     "data": {
      "text/html": [
       "<div>\n",
       "<style scoped>\n",
       "    .dataframe tbody tr th:only-of-type {\n",
       "        vertical-align: middle;\n",
       "    }\n",
       "\n",
       "    .dataframe tbody tr th {\n",
       "        vertical-align: top;\n",
       "    }\n",
       "\n",
       "    .dataframe thead th {\n",
       "        text-align: right;\n",
       "    }\n",
       "</style>\n",
       "<table border=\"1\" class=\"dataframe\">\n",
       "  <thead>\n",
       "    <tr style=\"text-align: right;\">\n",
       "      <th></th>\n",
       "      <th>size</th>\n",
       "      <th>municipality</th>\n",
       "      <th>distance</th>\n",
       "      <th>floor</th>\n",
       "      <th>hasLift</th>\n",
       "      <th>rooms_0</th>\n",
       "      <th>rooms_1</th>\n",
       "      <th>rooms_2</th>\n",
       "      <th>rooms_3</th>\n",
       "      <th>rooms_4</th>\n",
       "      <th>bathrooms_1</th>\n",
       "      <th>bathrooms_2</th>\n",
       "      <th>bathrooms_3</th>\n",
       "      <th>propertyType_chalet</th>\n",
       "      <th>propertyType_countryHouse</th>\n",
       "      <th>propertyType_duplex</th>\n",
       "      <th>propertyType_flat</th>\n",
       "      <th>propertyType_penthouse</th>\n",
       "      <th>propertyType_studio</th>\n",
       "      <th>exterior_True</th>\n",
       "    </tr>\n",
       "  </thead>\n",
       "  <tbody>\n",
       "    <tr>\n",
       "      <th>0</th>\n",
       "      <td>-1.509887</td>\n",
       "      <td>0.738475</td>\n",
       "      <td>-0.98553</td>\n",
       "      <td>0.355032</td>\n",
       "      <td>0.95132</td>\n",
       "      <td>-0.411054</td>\n",
       "      <td>-0.740233</td>\n",
       "      <td>1.308434</td>\n",
       "      <td>-0.39123</td>\n",
       "      <td>0.0</td>\n",
       "      <td>0.305857</td>\n",
       "      <td>-0.305857</td>\n",
       "      <td>0.0</td>\n",
       "      <td>-0.054393</td>\n",
       "      <td>-0.054393</td>\n",
       "      <td>-0.199693</td>\n",
       "      <td>0.523866</td>\n",
       "      <td>-0.174342</td>\n",
       "      <td>-0.406138</td>\n",
       "      <td>0.473103</td>\n",
       "    </tr>\n",
       "  </tbody>\n",
       "</table>\n",
       "</div>"
      ],
      "text/plain": [
       "       size  municipality  distance     floor  hasLift   rooms_0   rooms_1  \\\n",
       "0 -1.509887      0.738475  -0.98553  0.355032  0.95132 -0.411054 -0.740233   \n",
       "\n",
       "    rooms_2  rooms_3  rooms_4  bathrooms_1  bathrooms_2  bathrooms_3  \\\n",
       "0  1.308434 -0.39123      0.0     0.305857    -0.305857          0.0   \n",
       "\n",
       "   propertyType_chalet  propertyType_countryHouse  propertyType_duplex  \\\n",
       "0            -0.054393                  -0.054393            -0.199693   \n",
       "\n",
       "   propertyType_flat  propertyType_penthouse  propertyType_studio  \\\n",
       "0           0.523866               -0.174342            -0.406138   \n",
       "\n",
       "   exterior_True  \n",
       "0       0.473103  "
      ]
     },
     "execution_count": 82,
     "metadata": {},
     "output_type": "execute_result"
    }
   ],
   "source": [
    "col_num = df_encoded.select_dtypes(include = np.number).columns\n",
    "df_encoded_estand = pd.DataFrame(standar_scaler.transform(df_encoded), columns= col_num)\n",
    "df_encoded_estand"
   ]
  },
  {
   "cell_type": "code",
   "execution_count": 83,
   "metadata": {},
   "outputs": [
    {
     "data": {
      "text/html": [
       "<div>\n",
       "<style scoped>\n",
       "    .dataframe tbody tr th:only-of-type {\n",
       "        vertical-align: middle;\n",
       "    }\n",
       "\n",
       "    .dataframe tbody tr th {\n",
       "        vertical-align: top;\n",
       "    }\n",
       "\n",
       "    .dataframe thead th {\n",
       "        text-align: right;\n",
       "    }\n",
       "</style>\n",
       "<table border=\"1\" class=\"dataframe\">\n",
       "  <thead>\n",
       "    <tr style=\"text-align: right;\">\n",
       "      <th></th>\n",
       "      <th>size_standar</th>\n",
       "      <th>municipality_standar</th>\n",
       "      <th>distance_standar</th>\n",
       "      <th>floor_standar</th>\n",
       "      <th>hasLift_standar</th>\n",
       "      <th>rooms_0_standar</th>\n",
       "      <th>rooms_1_standar</th>\n",
       "      <th>rooms_2_standar</th>\n",
       "      <th>rooms_3_standar</th>\n",
       "      <th>rooms_4_standar</th>\n",
       "      <th>bathrooms_1_standar</th>\n",
       "      <th>bathrooms_2_standar</th>\n",
       "      <th>bathrooms_3_standar</th>\n",
       "      <th>propertyType_chalet_standar</th>\n",
       "      <th>propertyType_countryHouse_standar</th>\n",
       "      <th>propertyType_duplex_standar</th>\n",
       "      <th>propertyType_flat_standar</th>\n",
       "      <th>propertyType_penthouse_standar</th>\n",
       "      <th>propertyType_studio_standar</th>\n",
       "      <th>exterior_True_standar</th>\n",
       "    </tr>\n",
       "  </thead>\n",
       "  <tbody>\n",
       "    <tr>\n",
       "      <th>0</th>\n",
       "      <td>-1.509887</td>\n",
       "      <td>0.738475</td>\n",
       "      <td>-0.98553</td>\n",
       "      <td>0.355032</td>\n",
       "      <td>0.95132</td>\n",
       "      <td>-0.411054</td>\n",
       "      <td>-0.740233</td>\n",
       "      <td>1.308434</td>\n",
       "      <td>-0.39123</td>\n",
       "      <td>0.0</td>\n",
       "      <td>0.305857</td>\n",
       "      <td>-0.305857</td>\n",
       "      <td>0.0</td>\n",
       "      <td>-0.054393</td>\n",
       "      <td>-0.054393</td>\n",
       "      <td>-0.199693</td>\n",
       "      <td>0.523866</td>\n",
       "      <td>-0.174342</td>\n",
       "      <td>-0.406138</td>\n",
       "      <td>0.473103</td>\n",
       "    </tr>\n",
       "  </tbody>\n",
       "</table>\n",
       "</div>"
      ],
      "text/plain": [
       "   size_standar  municipality_standar  distance_standar  floor_standar  \\\n",
       "0     -1.509887              0.738475          -0.98553       0.355032   \n",
       "\n",
       "   hasLift_standar  rooms_0_standar  rooms_1_standar  rooms_2_standar  \\\n",
       "0          0.95132        -0.411054        -0.740233         1.308434   \n",
       "\n",
       "   rooms_3_standar  rooms_4_standar  bathrooms_1_standar  bathrooms_2_standar  \\\n",
       "0         -0.39123              0.0             0.305857            -0.305857   \n",
       "\n",
       "   bathrooms_3_standar  propertyType_chalet_standar  \\\n",
       "0                  0.0                    -0.054393   \n",
       "\n",
       "   propertyType_countryHouse_standar  propertyType_duplex_standar  \\\n",
       "0                          -0.054393                    -0.199693   \n",
       "\n",
       "   propertyType_flat_standar  propertyType_penthouse_standar  \\\n",
       "0                   0.523866                       -0.174342   \n",
       "\n",
       "   propertyType_studio_standar  exterior_True_standar  \n",
       "0                    -0.406138               0.473103  "
      ]
     },
     "execution_count": 83,
     "metadata": {},
     "output_type": "execute_result"
    }
   ],
   "source": [
    "df_encoded_estand = df_encoded_estand.rename(columns={col: f\"{col}_standar\" for col in df_encoded_estand.columns})\n",
    "df_encoded_estand"
   ]
  },
  {
   "cell_type": "markdown",
   "metadata": {},
   "source": [
    "### **3. Predicción**"
   ]
  },
  {
   "cell_type": "code",
   "execution_count": 84,
   "metadata": {},
   "outputs": [
    {
     "data": {
      "text/plain": [
       "array([748.40811621])"
      ]
     },
     "execution_count": 84,
     "metadata": {},
     "output_type": "execute_result"
    }
   ],
   "source": [
    "model.predict(df_encoded_estand)"
   ]
  },
  {
   "cell_type": "code",
   "execution_count": null,
   "metadata": {},
   "outputs": [],
   "source": []
  }
 ],
 "metadata": {
  "kernelspec": {
   "display_name": "Python 3",
   "language": "python",
   "name": "python3"
  },
  "language_info": {
   "codemirror_mode": {
    "name": "ipython",
    "version": 3
   },
   "file_extension": ".py",
   "mimetype": "text/x-python",
   "name": "python",
   "nbconvert_exporter": "python",
   "pygments_lexer": "ipython3",
   "version": "3.11.9"
  }
 },
 "nbformat": 4,
 "nbformat_minor": 2
}
